{
 "cells": [
  {
   "cell_type": "code",
   "execution_count": 1,
   "metadata": {},
   "outputs": [],
   "source": [
    "%%capture\n",
    "# Import Dependencies\n",
    "import pandas as pd\n",
    "import numpy as np\n",
    "import datetime as dt\n",
    "import matplotlib.pyplot as plt\n",
    "from dotenv import load_dotenv\n",
    "import os\n",
    "from datetime import datetime\n",
    "import requests\n",
    "import pandas_datareader as pdr\n",
    "from datetime import datetime\n",
    "import pandas_datareader as pdr\n",
    "import matplotlib.pyplot as plt\n",
    "%matplotlib inline\n",
    "import seaborn as sns\n",
    "sns.set()\n",
    "import warnings\n",
    "from sklearn.model_selection import train_test_split\n",
    "from sklearn.model_selection import train_test_split\n",
    "from sklearn.preprocessing import StandardScaler\n",
    "from sklearn.preprocessing import MinMaxScaler\n",
    "from sklearn.linear_model import LogisticRegression\n",
    "from sklearn.ensemble import GradientBoostingClassifier\n",
    "from sklearn.metrics import confusion_matrix, classification_report, accuracy_score\n",
    "%matplotlib inline\n",
    "warnings.filterwarnings('ignore')"
   ]
  },
  {
   "cell_type": "code",
   "execution_count": 2,
   "metadata": {},
   "outputs": [],
   "source": [
    "# Function to Validate Tickers\n",
    "def validateTick(tick):\n",
    "    \n",
    "    # Try Inputting into Yahoo Stocks\n",
    "    try:\n",
    "        pdr.DataReader(f'{tick}','yahoo',date)\n",
    "    \n",
    "    # Raise Error if Invalid\n",
    "    except:\n",
    "        raise ValueError(\"Ticker Not Valid.\")\n",
    "        \n",
    "# Function to Validate Date\n",
    "def validate(date_text):\n",
    "    \n",
    "    # Try Check on Format\n",
    "    try:\n",
    "        datetime.strptime(date_text, '%Y-%m-%d')\n",
    "        \n",
    "    # Raise Error if Invalid\n",
    "    except ValueError:\n",
    "        raise ValueError(\"Incorrect data format, should be YYYY-MM-DD\")\n",
    "        \n",
    "# Function to Validate Date\n",
    "def validateShift(shift):\n",
    "    shift = int(shift)\n",
    "    # Try Check on Format\n",
    "    try:\n",
    "        if 0 > shift <= 365:\n",
    "            pass\n",
    "        \n",
    "    # Raise Error if Invalid\n",
    "    except ValueError:\n",
    "        raise ValueError(\"Please enter a whole number.\")"
   ]
  },
  {
   "cell_type": "code",
   "execution_count": 3,
   "metadata": {},
   "outputs": [
    {
     "name": "stdin",
     "output_type": "stream",
     "text": [
      "Pick a start date for your analysis (YYYY-MM-DD):  2016-01-01\n"
     ]
    }
   ],
   "source": [
    "# Pick a Start Date\n",
    "date = input(\"Pick a start date for your analysis (YYYY-MM-DD): \")\n",
    "\n",
    "# Validate Correct Date Format\n",
    "validate(date)"
   ]
  },
  {
   "cell_type": "code",
   "execution_count": 4,
   "metadata": {},
   "outputs": [
    {
     "name": "stdin",
     "output_type": "stream",
     "text": [
      "Pick a stock ticker for your analysis:  CME\n"
     ]
    }
   ],
   "source": [
    "# Pick a Stock\n",
    "stock_selection = input(\"Pick a stock ticker for your analysis: \")\n",
    "\n",
    "# Validate Correct Date Format\n",
    "validateTick(stock_selection)"
   ]
  },
  {
   "cell_type": "code",
   "execution_count": 5,
   "metadata": {},
   "outputs": [
    {
     "name": "stdin",
     "output_type": "stream",
     "text": [
      "Pick how many days to shift your close values for your analysis:  1\n"
     ]
    }
   ],
   "source": [
    "# Pick Shift\n",
    "shift_selection = input(\"Pick how many days to shift your close values for your analysis: \")\n",
    "\n",
    "# Validate Correct Date Format\n",
    "validateShift(shift_selection)"
   ]
  },
  {
   "cell_type": "code",
   "execution_count": 6,
   "metadata": {},
   "outputs": [],
   "source": [
    "# Function to Create Stocks\n",
    "def stockCreation(date, stock_selection, days_shifted):\n",
    "    \n",
    "    # Read Stock Data\n",
    "    globals()[stock_selection] = pdr.DataReader(f'{stock_selection}','yahoo',date)\n",
    "    \n",
    "    # Create Shifted Close Column\n",
    "    globals()[stock_selection][\"Shifted Close\"] = globals()[stock_selection][\"Adj Close\"].shift(-int(days_shifted))\n",
    "    \n",
    "    # Drop Rows Without Shift Values\n",
    "    globals()[stock_selection].drop(globals()[stock_selection].tail(int(days_shifted)).index, inplace = True) \n",
    "    \n",
    "    # Empty List to Hold Profit or Loss\n",
    "    profit_loss = []\n",
    "    \n",
    "    # Iterate Through DataFrame\n",
    "    for x in range(len(globals()[stock_selection])):\n",
    "        \n",
    "        # Handle Profitable Days\n",
    "        if globals()[stock_selection][\"Shifted Close\"][x] > globals()[stock_selection][\"Adj Close\"][x]:\n",
    "            \n",
    "            # Append \"Profit\" to Empty List\n",
    "            profit_loss.append(1)\n",
    "            \n",
    "        # Handle Loss Days\n",
    "        elif globals()[stock_selection][\"Shifted Close\"][x] < globals()[stock_selection][\"Adj Close\"][x]:\n",
    "            \n",
    "            # Append \"Loss\" to Empty List\n",
    "            profit_loss.append(0)\n",
    "            \n",
    "        # Handle Push Days\n",
    "        elif globals()[stock_selection][\"Shifted Close\"][x] == globals()[stock_selection][\"Adj Close\"][x]:\n",
    "            \n",
    "            # Append \"Push\" to Empty List\n",
    "            profit_loss.append(2)\n",
    "    \n",
    "    # Create Profit/Loss Column\n",
    "    globals()[stock_selection][\"Profit_Loss\"] = profit_loss\n",
    "    \n",
    "    # Create Returns Column\n",
    "    globals()[stock_selection]['Returns'] = np.log(globals()[stock_selection]['Adj Close'] / globals()[stock_selection]['Adj Close'].shift(1))\n",
    "    \n",
    "    # Iterate to Create STD Columns\n",
    "    for x in range(5, 20, 5):\n",
    "        \n",
    "        # Create STD Column Based on Iteration\n",
    "        col_name = 'std_' + str(x)\n",
    "        \n",
    "        # Add STD Column to DataFrame\n",
    "        globals()[stock_selection][col_name] = globals()[stock_selection]['Adj Close'].rolling(window=x).std()\n",
    "\n",
    "    # Iterate to Create MA Columns\n",
    "    for x in range(10, 30, 5):\n",
    "        \n",
    "        # Create MA Column Based on Iteration\n",
    "        col_name = 'ma_' + str(x)\n",
    "        \n",
    "        # Add MA Column to DataFrame\n",
    "        globals()[stock_selection][col_name] = globals()[stock_selection]['Adj Close'].rolling(window=x).mean()\n",
    "\n",
    "    # Iterate to Create % Change Columns\n",
    "    for x in range(3, 12, 3):\n",
    "        \n",
    "        # Create % Change Column Based on Iteration\n",
    "        col_name = 'pct_' + str(x)\n",
    "        \n",
    "        # Add % Change Column to DataFrame\n",
    "        globals()[stock_selection][col_name] = globals()[stock_selection]['Adj Close'].pct_change().rolling(window=x).sum()\n",
    "\n",
    "    # Create VMA 4 Column\n",
    "    col_name = 'vma_4'\n",
    "    \n",
    "    # Add VMA 4 Column to DataFrame\n",
    "    globals()[stock_selection][col_name] = globals()[stock_selection]['Volume'].rolling(4).mean()\n",
    "\n",
    "    # Create Intraday Column\n",
    "    col_name = 'co'\n",
    "    \n",
    "    # Add Intraday Column to DataFrame\n",
    "    globals()[stock_selection][col_name] = globals()[stock_selection]['Adj Close'] - globals()[stock_selection]['Open']\n",
    "    \n",
    "    # Drop All NaN's\n",
    "    globals()[stock_selection].dropna(inplace=True)\n",
    "    \n",
    "    # Return DataFrame\n",
    "    return globals()[stock_selection]"
   ]
  },
  {
   "cell_type": "code",
   "execution_count": 7,
   "metadata": {},
   "outputs": [
    {
     "data": {
      "text/html": [
       "<div>\n",
       "<style scoped>\n",
       "    .dataframe tbody tr th:only-of-type {\n",
       "        vertical-align: middle;\n",
       "    }\n",
       "\n",
       "    .dataframe tbody tr th {\n",
       "        vertical-align: top;\n",
       "    }\n",
       "\n",
       "    .dataframe thead th {\n",
       "        text-align: right;\n",
       "    }\n",
       "</style>\n",
       "<table border=\"1\" class=\"dataframe\">\n",
       "  <thead>\n",
       "    <tr style=\"text-align: right;\">\n",
       "      <th></th>\n",
       "      <th>High</th>\n",
       "      <th>Low</th>\n",
       "      <th>Open</th>\n",
       "      <th>Close</th>\n",
       "      <th>Volume</th>\n",
       "      <th>Adj Close</th>\n",
       "      <th>Shifted Close</th>\n",
       "      <th>Profit_Loss</th>\n",
       "      <th>Returns</th>\n",
       "      <th>std_5</th>\n",
       "      <th>...</th>\n",
       "      <th>std_15</th>\n",
       "      <th>ma_10</th>\n",
       "      <th>ma_15</th>\n",
       "      <th>ma_20</th>\n",
       "      <th>ma_25</th>\n",
       "      <th>pct_3</th>\n",
       "      <th>pct_6</th>\n",
       "      <th>pct_9</th>\n",
       "      <th>vma_4</th>\n",
       "      <th>co</th>\n",
       "    </tr>\n",
       "    <tr>\n",
       "      <th>Date</th>\n",
       "      <th></th>\n",
       "      <th></th>\n",
       "      <th></th>\n",
       "      <th></th>\n",
       "      <th></th>\n",
       "      <th></th>\n",
       "      <th></th>\n",
       "      <th></th>\n",
       "      <th></th>\n",
       "      <th></th>\n",
       "      <th></th>\n",
       "      <th></th>\n",
       "      <th></th>\n",
       "      <th></th>\n",
       "      <th></th>\n",
       "      <th></th>\n",
       "      <th></th>\n",
       "      <th></th>\n",
       "      <th></th>\n",
       "      <th></th>\n",
       "      <th></th>\n",
       "    </tr>\n",
       "  </thead>\n",
       "  <tbody>\n",
       "    <tr>\n",
       "      <th>2016-02-08</th>\n",
       "      <td>90.669998</td>\n",
       "      <td>87.000000</td>\n",
       "      <td>88.410004</td>\n",
       "      <td>90.190002</td>\n",
       "      <td>2758100.0</td>\n",
       "      <td>75.330887</td>\n",
       "      <td>77.936836</td>\n",
       "      <td>1</td>\n",
       "      <td>0.018351</td>\n",
       "      <td>1.218740</td>\n",
       "      <td>...</td>\n",
       "      <td>2.022289</td>\n",
       "      <td>73.756442</td>\n",
       "      <td>72.653080</td>\n",
       "      <td>72.354897</td>\n",
       "      <td>72.608648</td>\n",
       "      <td>0.009896</td>\n",
       "      <td>0.004898</td>\n",
       "      <td>0.044908</td>\n",
       "      <td>2910525.0</td>\n",
       "      <td>-13.079117</td>\n",
       "    </tr>\n",
       "    <tr>\n",
       "      <th>2016-02-09</th>\n",
       "      <td>93.809998</td>\n",
       "      <td>89.050003</td>\n",
       "      <td>89.050003</td>\n",
       "      <td>93.309998</td>\n",
       "      <td>3233500.0</td>\n",
       "      <td>77.936836</td>\n",
       "      <td>75.614868</td>\n",
       "      <td>0</td>\n",
       "      <td>0.034008</td>\n",
       "      <td>2.126921</td>\n",
       "      <td>...</td>\n",
       "      <td>2.423534</td>\n",
       "      <td>74.336102</td>\n",
       "      <td>73.053999</td>\n",
       "      <td>72.620506</td>\n",
       "      <td>72.763668</td>\n",
       "      <td>0.078829</td>\n",
       "      <td>0.044054</td>\n",
       "      <td>0.075449</td>\n",
       "      <td>3200800.0</td>\n",
       "      <td>-11.113167</td>\n",
       "    </tr>\n",
       "    <tr>\n",
       "      <th>2016-02-10</th>\n",
       "      <td>93.489998</td>\n",
       "      <td>90.440002</td>\n",
       "      <td>93.029999</td>\n",
       "      <td>90.529999</td>\n",
       "      <td>2133700.0</td>\n",
       "      <td>75.614868</td>\n",
       "      <td>74.604225</td>\n",
       "      <td>0</td>\n",
       "      <td>-0.030246</td>\n",
       "      <td>2.154174</td>\n",
       "      <td>...</td>\n",
       "      <td>2.382844</td>\n",
       "      <td>74.654331</td>\n",
       "      <td>73.406474</td>\n",
       "      <td>72.757486</td>\n",
       "      <td>72.802423</td>\n",
       "      <td>0.023321</td>\n",
       "      <td>0.017951</td>\n",
       "      <td>0.041389</td>\n",
       "      <td>2785025.0</td>\n",
       "      <td>-17.415131</td>\n",
       "    </tr>\n",
       "    <tr>\n",
       "      <th>2016-02-11</th>\n",
       "      <td>90.550003</td>\n",
       "      <td>88.320000</td>\n",
       "      <td>88.360001</td>\n",
       "      <td>89.320000</td>\n",
       "      <td>1952800.0</td>\n",
       "      <td>74.604225</td>\n",
       "      <td>76.132721</td>\n",
       "      <td>1</td>\n",
       "      <td>-0.013456</td>\n",
       "      <td>1.512457</td>\n",
       "      <td>...</td>\n",
       "      <td>1.967143</td>\n",
       "      <td>74.840592</td>\n",
       "      <td>73.814632</td>\n",
       "      <td>72.972562</td>\n",
       "      <td>72.815453</td>\n",
       "      <td>-0.008565</td>\n",
       "      <td>0.001331</td>\n",
       "      <td>-0.003668</td>\n",
       "      <td>2519525.0</td>\n",
       "      <td>-13.755775</td>\n",
       "    </tr>\n",
       "    <tr>\n",
       "      <th>2016-02-12</th>\n",
       "      <td>91.290001</td>\n",
       "      <td>89.510002</td>\n",
       "      <td>90.919998</td>\n",
       "      <td>91.150002</td>\n",
       "      <td>1691200.0</td>\n",
       "      <td>76.132721</td>\n",
       "      <td>75.765213</td>\n",
       "      <td>0</td>\n",
       "      <td>0.020281</td>\n",
       "      <td>1.253418</td>\n",
       "      <td>...</td>\n",
       "      <td>1.863000</td>\n",
       "      <td>74.949174</td>\n",
       "      <td>74.169889</td>\n",
       "      <td>73.241928</td>\n",
       "      <td>72.936396</td>\n",
       "      <td>-0.022671</td>\n",
       "      <td>0.056159</td>\n",
       "      <td>0.021383</td>\n",
       "      <td>2252800.0</td>\n",
       "      <td>-14.787277</td>\n",
       "    </tr>\n",
       "  </tbody>\n",
       "</table>\n",
       "<p>5 rows × 21 columns</p>\n",
       "</div>"
      ],
      "text/plain": [
       "                 High        Low       Open      Close     Volume  Adj Close  \\\n",
       "Date                                                                           \n",
       "2016-02-08  90.669998  87.000000  88.410004  90.190002  2758100.0  75.330887   \n",
       "2016-02-09  93.809998  89.050003  89.050003  93.309998  3233500.0  77.936836   \n",
       "2016-02-10  93.489998  90.440002  93.029999  90.529999  2133700.0  75.614868   \n",
       "2016-02-11  90.550003  88.320000  88.360001  89.320000  1952800.0  74.604225   \n",
       "2016-02-12  91.290001  89.510002  90.919998  91.150002  1691200.0  76.132721   \n",
       "\n",
       "            Shifted Close  Profit_Loss   Returns     std_5  ...    std_15  \\\n",
       "Date                                                        ...             \n",
       "2016-02-08      77.936836            1  0.018351  1.218740  ...  2.022289   \n",
       "2016-02-09      75.614868            0  0.034008  2.126921  ...  2.423534   \n",
       "2016-02-10      74.604225            0 -0.030246  2.154174  ...  2.382844   \n",
       "2016-02-11      76.132721            1 -0.013456  1.512457  ...  1.967143   \n",
       "2016-02-12      75.765213            0  0.020281  1.253418  ...  1.863000   \n",
       "\n",
       "                ma_10      ma_15      ma_20      ma_25     pct_3     pct_6  \\\n",
       "Date                                                                         \n",
       "2016-02-08  73.756442  72.653080  72.354897  72.608648  0.009896  0.004898   \n",
       "2016-02-09  74.336102  73.053999  72.620506  72.763668  0.078829  0.044054   \n",
       "2016-02-10  74.654331  73.406474  72.757486  72.802423  0.023321  0.017951   \n",
       "2016-02-11  74.840592  73.814632  72.972562  72.815453 -0.008565  0.001331   \n",
       "2016-02-12  74.949174  74.169889  73.241928  72.936396 -0.022671  0.056159   \n",
       "\n",
       "               pct_9      vma_4         co  \n",
       "Date                                        \n",
       "2016-02-08  0.044908  2910525.0 -13.079117  \n",
       "2016-02-09  0.075449  3200800.0 -11.113167  \n",
       "2016-02-10  0.041389  2785025.0 -17.415131  \n",
       "2016-02-11 -0.003668  2519525.0 -13.755775  \n",
       "2016-02-12  0.021383  2252800.0 -14.787277  \n",
       "\n",
       "[5 rows x 21 columns]"
      ]
     },
     "execution_count": 7,
     "metadata": {},
     "output_type": "execute_result"
    }
   ],
   "source": [
    "# Create Stock dataframe\n",
    "CMEdf = stockCreation(date, stock_selection, shift_selection)\n",
    "CMEdf.head()"
   ]
  },
  {
   "cell_type": "code",
   "execution_count": 8,
   "metadata": {},
   "outputs": [],
   "source": [
    "#For simplicity, replace the “Close” price with the “Adjusted Close” price.\n",
    "CMEdf['Close'] = CMEdf['Adj Close']\n",
    "CMEdf = CMEdf.drop(\"Adj Close\", axis=1)"
   ]
  },
  {
   "cell_type": "code",
   "execution_count": 9,
   "metadata": {},
   "outputs": [],
   "source": [
    "#dropping the Profit Loss Column \n",
    "CMEdf = CMEdf.drop(columns=['Profit_Loss'])"
   ]
  },
  {
   "cell_type": "code",
   "execution_count": 10,
   "metadata": {},
   "outputs": [
    {
     "data": {
      "text/html": [
       "<div>\n",
       "<style scoped>\n",
       "    .dataframe tbody tr th:only-of-type {\n",
       "        vertical-align: middle;\n",
       "    }\n",
       "\n",
       "    .dataframe tbody tr th {\n",
       "        vertical-align: top;\n",
       "    }\n",
       "\n",
       "    .dataframe thead th {\n",
       "        text-align: right;\n",
       "    }\n",
       "</style>\n",
       "<table border=\"1\" class=\"dataframe\">\n",
       "  <thead>\n",
       "    <tr style=\"text-align: right;\">\n",
       "      <th></th>\n",
       "      <th>High</th>\n",
       "      <th>Low</th>\n",
       "      <th>Open</th>\n",
       "      <th>Close</th>\n",
       "      <th>Volume</th>\n",
       "      <th>Shifted Close</th>\n",
       "      <th>Returns</th>\n",
       "      <th>std_5</th>\n",
       "      <th>std_10</th>\n",
       "      <th>std_15</th>\n",
       "      <th>ma_10</th>\n",
       "      <th>ma_15</th>\n",
       "      <th>ma_20</th>\n",
       "      <th>ma_25</th>\n",
       "      <th>pct_3</th>\n",
       "      <th>pct_6</th>\n",
       "      <th>pct_9</th>\n",
       "      <th>vma_4</th>\n",
       "      <th>co</th>\n",
       "    </tr>\n",
       "    <tr>\n",
       "      <th>Date</th>\n",
       "      <th></th>\n",
       "      <th></th>\n",
       "      <th></th>\n",
       "      <th></th>\n",
       "      <th></th>\n",
       "      <th></th>\n",
       "      <th></th>\n",
       "      <th></th>\n",
       "      <th></th>\n",
       "      <th></th>\n",
       "      <th></th>\n",
       "      <th></th>\n",
       "      <th></th>\n",
       "      <th></th>\n",
       "      <th></th>\n",
       "      <th></th>\n",
       "      <th></th>\n",
       "      <th></th>\n",
       "      <th></th>\n",
       "    </tr>\n",
       "  </thead>\n",
       "  <tbody>\n",
       "    <tr>\n",
       "      <th>2016-02-08</th>\n",
       "      <td>90.669998</td>\n",
       "      <td>87.000000</td>\n",
       "      <td>88.410004</td>\n",
       "      <td>75.330887</td>\n",
       "      <td>2758100.0</td>\n",
       "      <td>77.936836</td>\n",
       "      <td>0.018351</td>\n",
       "      <td>1.218740</td>\n",
       "      <td>1.268820</td>\n",
       "      <td>2.022289</td>\n",
       "      <td>73.756442</td>\n",
       "      <td>72.653080</td>\n",
       "      <td>72.354897</td>\n",
       "      <td>72.608648</td>\n",
       "      <td>0.009896</td>\n",
       "      <td>0.004898</td>\n",
       "      <td>0.044908</td>\n",
       "      <td>2910525.0</td>\n",
       "      <td>-13.079117</td>\n",
       "    </tr>\n",
       "    <tr>\n",
       "      <th>2016-02-09</th>\n",
       "      <td>93.809998</td>\n",
       "      <td>89.050003</td>\n",
       "      <td>89.050003</td>\n",
       "      <td>77.936836</td>\n",
       "      <td>3233500.0</td>\n",
       "      <td>75.614868</td>\n",
       "      <td>0.034008</td>\n",
       "      <td>2.126921</td>\n",
       "      <td>1.699434</td>\n",
       "      <td>2.423534</td>\n",
       "      <td>74.336102</td>\n",
       "      <td>73.053999</td>\n",
       "      <td>72.620506</td>\n",
       "      <td>72.763668</td>\n",
       "      <td>0.078829</td>\n",
       "      <td>0.044054</td>\n",
       "      <td>0.075449</td>\n",
       "      <td>3200800.0</td>\n",
       "      <td>-11.113167</td>\n",
       "    </tr>\n",
       "    <tr>\n",
       "      <th>2016-02-10</th>\n",
       "      <td>93.489998</td>\n",
       "      <td>90.440002</td>\n",
       "      <td>93.029999</td>\n",
       "      <td>75.614868</td>\n",
       "      <td>2133700.0</td>\n",
       "      <td>74.604225</td>\n",
       "      <td>-0.030246</td>\n",
       "      <td>2.154174</td>\n",
       "      <td>1.598326</td>\n",
       "      <td>2.382844</td>\n",
       "      <td>74.654331</td>\n",
       "      <td>73.406474</td>\n",
       "      <td>72.757486</td>\n",
       "      <td>72.802423</td>\n",
       "      <td>0.023321</td>\n",
       "      <td>0.017951</td>\n",
       "      <td>0.041389</td>\n",
       "      <td>2785025.0</td>\n",
       "      <td>-17.415131</td>\n",
       "    </tr>\n",
       "    <tr>\n",
       "      <th>2016-02-11</th>\n",
       "      <td>90.550003</td>\n",
       "      <td>88.320000</td>\n",
       "      <td>88.360001</td>\n",
       "      <td>74.604225</td>\n",
       "      <td>1952800.0</td>\n",
       "      <td>76.132721</td>\n",
       "      <td>-0.013456</td>\n",
       "      <td>1.512457</td>\n",
       "      <td>1.452542</td>\n",
       "      <td>1.967143</td>\n",
       "      <td>74.840592</td>\n",
       "      <td>73.814632</td>\n",
       "      <td>72.972562</td>\n",
       "      <td>72.815453</td>\n",
       "      <td>-0.008565</td>\n",
       "      <td>0.001331</td>\n",
       "      <td>-0.003668</td>\n",
       "      <td>2519525.0</td>\n",
       "      <td>-13.755775</td>\n",
       "    </tr>\n",
       "    <tr>\n",
       "      <th>2016-02-12</th>\n",
       "      <td>91.290001</td>\n",
       "      <td>89.510002</td>\n",
       "      <td>90.919998</td>\n",
       "      <td>76.132721</td>\n",
       "      <td>1691200.0</td>\n",
       "      <td>75.765213</td>\n",
       "      <td>0.020281</td>\n",
       "      <td>1.253418</td>\n",
       "      <td>1.509159</td>\n",
       "      <td>1.863000</td>\n",
       "      <td>74.949174</td>\n",
       "      <td>74.169889</td>\n",
       "      <td>73.241928</td>\n",
       "      <td>72.936396</td>\n",
       "      <td>-0.022671</td>\n",
       "      <td>0.056159</td>\n",
       "      <td>0.021383</td>\n",
       "      <td>2252800.0</td>\n",
       "      <td>-14.787277</td>\n",
       "    </tr>\n",
       "  </tbody>\n",
       "</table>\n",
       "</div>"
      ],
      "text/plain": [
       "                 High        Low       Open      Close     Volume  \\\n",
       "Date                                                                \n",
       "2016-02-08  90.669998  87.000000  88.410004  75.330887  2758100.0   \n",
       "2016-02-09  93.809998  89.050003  89.050003  77.936836  3233500.0   \n",
       "2016-02-10  93.489998  90.440002  93.029999  75.614868  2133700.0   \n",
       "2016-02-11  90.550003  88.320000  88.360001  74.604225  1952800.0   \n",
       "2016-02-12  91.290001  89.510002  90.919998  76.132721  1691200.0   \n",
       "\n",
       "            Shifted Close   Returns     std_5    std_10    std_15      ma_10  \\\n",
       "Date                                                                           \n",
       "2016-02-08      77.936836  0.018351  1.218740  1.268820  2.022289  73.756442   \n",
       "2016-02-09      75.614868  0.034008  2.126921  1.699434  2.423534  74.336102   \n",
       "2016-02-10      74.604225 -0.030246  2.154174  1.598326  2.382844  74.654331   \n",
       "2016-02-11      76.132721 -0.013456  1.512457  1.452542  1.967143  74.840592   \n",
       "2016-02-12      75.765213  0.020281  1.253418  1.509159  1.863000  74.949174   \n",
       "\n",
       "                ma_15      ma_20      ma_25     pct_3     pct_6     pct_9  \\\n",
       "Date                                                                        \n",
       "2016-02-08  72.653080  72.354897  72.608648  0.009896  0.004898  0.044908   \n",
       "2016-02-09  73.053999  72.620506  72.763668  0.078829  0.044054  0.075449   \n",
       "2016-02-10  73.406474  72.757486  72.802423  0.023321  0.017951  0.041389   \n",
       "2016-02-11  73.814632  72.972562  72.815453 -0.008565  0.001331 -0.003668   \n",
       "2016-02-12  74.169889  73.241928  72.936396 -0.022671  0.056159  0.021383   \n",
       "\n",
       "                vma_4         co  \n",
       "Date                              \n",
       "2016-02-08  2910525.0 -13.079117  \n",
       "2016-02-09  3200800.0 -11.113167  \n",
       "2016-02-10  2785025.0 -17.415131  \n",
       "2016-02-11  2519525.0 -13.755775  \n",
       "2016-02-12  2252800.0 -14.787277  "
      ]
     },
     "execution_count": 10,
     "metadata": {},
     "output_type": "execute_result"
    }
   ],
   "source": [
    "CMEdf.head()"
   ]
  },
  {
   "cell_type": "code",
   "execution_count": 11,
   "metadata": {},
   "outputs": [],
   "source": [
    "#we want to predict the close price of 5 days in the future.\n",
    "\n",
    "forward_lag = 5\n",
    "CMEdf['target'] = CMEdf['Close'].shift(-forward_lag)\n",
    "CMEdf = CMEdf.drop('Close',axis=1)\n",
    "CMEdf = CMEdf.dropna()"
   ]
  },
  {
   "cell_type": "code",
   "execution_count": 12,
   "metadata": {},
   "outputs": [],
   "source": [
    "X = CMEdf.drop(\"target\",axis=1)\n",
    "Y = CMEdf['target']\n",
    "\n",
    "#split our dataset into training and test sets.\n",
    "X_train, X_test, y_train, y_test = train_test_split(X, Y, test_size=0.3, random_state=42)"
   ]
  },
  {
   "cell_type": "code",
   "execution_count": 13,
   "metadata": {},
   "outputs": [],
   "source": [
    "#sort the features by the absolute value of the Pearson’s correlation coefficient of each feature and the target. \n",
    "#The idea is to take only the 50 most correlated features to the target.\n",
    "\n",
    "correlations = np.abs(X_train.corrwith(y_train))\n",
    "features =  list(correlations.sort_values(ascending=False)[0:50].index)\n",
    "X_train = X_train[features]\n",
    "X_test = X_test[features]"
   ]
  },
  {
   "cell_type": "markdown",
   "metadata": {},
   "source": [
    "### The simplest regression model ever, which is Linear Regression"
   ]
  },
  {
   "cell_type": "code",
   "execution_count": 44,
   "metadata": {},
   "outputs": [
    {
     "data": {
      "text/plain": [
       "LinearRegression()"
      ]
     },
     "execution_count": 44,
     "metadata": {},
     "output_type": "execute_result"
    }
   ],
   "source": [
    "from sklearn.linear_model import LinearRegression\n",
    "\n",
    "#train the model\n",
    "\n",
    "lr = LinearRegression()\n",
    "lr.fit(X_train,y_train)"
   ]
  },
  {
   "cell_type": "code",
   "execution_count": 45,
   "metadata": {},
   "outputs": [],
   "source": [
    "# calculate the predictions of the model\n",
    "y_pred = lr.predict(X_test)"
   ]
  },
  {
   "cell_type": "code",
   "execution_count": 46,
   "metadata": {},
   "outputs": [
    {
     "data": {
      "text/plain": [
       "3.17667221594204"
      ]
     },
     "execution_count": 46,
     "metadata": {},
     "output_type": "execute_result"
    }
   ],
   "source": [
    "# The predictions can be compared with the real test set data to calculate the prediction error\n",
    "from sklearn.metrics import mean_absolute_error\n",
    "mean_absolute_error(y_test,y_pred)"
   ]
  },
  {
   "cell_type": "code",
   "execution_count": 47,
   "metadata": {},
   "outputs": [
    {
     "data": {
      "image/png": "[encoded data removed]",
      "text/plain": [
       "<Figure size 432x288 with 1 Axes>"
      ]
     },
     "metadata": {
      "needs_background": "light"
     },
     "output_type": "display_data"
    }
   ],
   "source": [
    "#plot the real values of the test set and the predicted value to check if they lie in a 45° line passing through 0\n",
    "\n",
    "plt.scatter(y_test,y_pred)\n",
    "plt.xlabel(\"Real\")\n",
    "plt.ylabel(\"Predicted\")\n",
    "plt.title(\"Linear regression\")\n",
    "plt.show()"
   ]
  },
  {
   "cell_type": "markdown",
   "metadata": {},
   "source": [
    "### Random forest"
   ]
  },
  {
   "cell_type": "code",
   "execution_count": 49,
   "metadata": {},
   "outputs": [],
   "source": [
    "from sklearn.model_selection import RandomizedSearchCV\n",
    "from sklearn.ensemble import RandomForestRegressor"
   ]
  },
  {
   "cell_type": "code",
   "execution_count": 50,
   "metadata": {},
   "outputs": [
    {
     "data": {
      "text/plain": [
       "RandomizedSearchCV(cv=5, estimator=RandomForestRegressor(), iid=False,\n",
       "                   n_iter=20,\n",
       "                   param_distributions={'max_features': array([1, 2, 3, 4, 5, 6, 7, 8, 9]),\n",
       "                                        'n_estimators': array([ 10,  15,  20,  25,  30,  35,  40,  45,  50,  55,  60,  65,  70,\n",
       "        75,  80,  85,  90,  95, 100, 105, 110, 115, 120, 125, 130, 135,\n",
       "       140, 145, 150, 155, 160, 165, 170, 175, 180, 185, 190, 195, 200,\n",
       "       205, 210, 215, 220, 225, 230, 235, 240, 245, 250, 255, 260, 265,\n",
       "       270, 275, 280, 285, 290, 295, 300, 305, 310, 315, 320, 325, 330,\n",
       "       335, 340, 345, 350, 355, 360, 365, 370, 375, 380, 385, 390, 395,\n",
       "       400, 405, 410, 415, 420, 425, 430, 435, 440, 445, 450, 455, 460,\n",
       "       465, 470, 475, 480, 485, 490, 495])},\n",
       "                   random_state=0, scoring='neg_mean_absolute_error')"
      ]
     },
     "execution_count": 50,
     "metadata": {},
     "output_type": "execute_result"
    }
   ],
   "source": [
    "rf = RandomizedSearchCV(RandomForestRegressor(),\n",
    "param_distributions =  {\n",
    "                  'n_estimators':np.arange(10,500,5),\n",
    "                  'max_features':np.arange(1,10,1)\n",
    "               },\n",
    "                  cv=5, n_iter = 20,\n",
    "                  iid=False,random_state=0,refit=True,\n",
    "                  scoring=\"neg_mean_absolute_error\")\n",
    "rf.fit(X_train,y_train)"
   ]
  },
  {
   "cell_type": "code",
   "execution_count": 51,
   "metadata": {},
   "outputs": [
    {
     "data": {
      "text/plain": [
       "{'n_estimators': 285, 'max_features': 7}"
      ]
     },
     "execution_count": 51,
     "metadata": {},
     "output_type": "execute_result"
    }
   ],
   "source": [
    "rf.best_params_"
   ]
  },
  {
   "cell_type": "code",
   "execution_count": 52,
   "metadata": {},
   "outputs": [],
   "source": [
    "y_pred = rf.predict(X_test)"
   ]
  },
  {
   "cell_type": "code",
   "execution_count": 53,
   "metadata": {},
   "outputs": [
    {
     "data": {
      "text/plain": [
       "2.298402625512443"
      ]
     },
     "execution_count": 53,
     "metadata": {},
     "output_type": "execute_result"
    }
   ],
   "source": [
    "from sklearn.metrics import mean_absolute_error\n",
    "mean_absolute_error(y_test,y_pred)"
   ]
  },
  {
   "cell_type": "code",
   "execution_count": 54,
   "metadata": {},
   "outputs": [
    {
     "data": {
      "image/png": "[encoded data removed]",
      "text/plain": [
       "<Figure size 432x288 with 1 Axes>"
      ]
     },
     "metadata": {
      "needs_background": "light"
     },
     "output_type": "display_data"
    }
   ],
   "source": [
    "plt.scatter(y_test,y_pred)\n",
    "plt.xlabel(\"Real\")\n",
    "plt.ylabel(\"Predicted\")\n",
    "plt.title(\"RandomForestRegressor\")\n",
    "plt.show()"
   ]
  },
  {
   "cell_type": "markdown",
   "metadata": {},
   "source": [
    "### Gradient boosting tree regressor"
   ]
  },
  {
   "cell_type": "code",
   "execution_count": 24,
   "metadata": {},
   "outputs": [
    {
     "data": {
      "text/plain": [
       "RandomizedSearchCV(cv=5, estimator=GradientBoostingRegressor(), iid=False,\n",
       "                   n_iter=20,\n",
       "                   param_distributions={'max_features': array([1, 2, 3, 4, 5, 6, 7, 8, 9]),\n",
       "                                        'n_estimators': array([ 10,  15,  20,  25,  30,  35,  40,  45,  50,  55,  60,  65,  70,\n",
       "        75,  80,  85,  90,  95, 100, 105, 110, 115, 120, 125, 130, 135,\n",
       "       140, 145, 150, 155, 160, 165, 170, 175, 180, 185, 190, 195, 200,\n",
       "       205, 210, 215, 220, 225, 230, 235, 240, 245, 250, 255, 260, 265,\n",
       "       270, 275, 280, 285, 290, 295, 300, 305, 310, 315, 320, 325, 330,\n",
       "       335, 340, 345, 350, 355, 360, 365, 370, 375, 380, 385, 390, 395,\n",
       "       400, 405, 410, 415, 420, 425, 430, 435, 440, 445, 450, 455, 460,\n",
       "       465, 470, 475, 480, 485, 490, 495])},\n",
       "                   random_state=0, scoring='neg_mean_absolute_error')"
      ]
     },
     "execution_count": 24,
     "metadata": {},
     "output_type": "execute_result"
    }
   ],
   "source": [
    "from sklearn.ensemble import GradientBoostingRegressor\n",
    "gb = RandomizedSearchCV(GradientBoostingRegressor(),\n",
    "param_distributions =  {\n",
    "               'n_estimators':np.arange(10,500,5),\n",
    "               'max_features':np.arange(1,10,1)\n",
    "            },\n",
    "          cv=5, n_iter = 20,\n",
    "          iid=False,random_state=0,refit=True,\n",
    "          scoring=\"neg_mean_absolute_error\")\n",
    "gb.fit(X_train,y_train)"
   ]
  },
  {
   "cell_type": "code",
   "execution_count": 25,
   "metadata": {},
   "outputs": [
    {
     "data": {
      "text/plain": [
       "{'n_estimators': 480, 'max_features': 6}"
      ]
     },
     "execution_count": 25,
     "metadata": {},
     "output_type": "execute_result"
    }
   ],
   "source": [
    "gb.best_params_"
   ]
  },
  {
   "cell_type": "code",
   "execution_count": 26,
   "metadata": {},
   "outputs": [],
   "source": [
    "y_pred = gb.predict(X_test)"
   ]
  },
  {
   "cell_type": "code",
   "execution_count": 27,
   "metadata": {},
   "outputs": [
    {
     "data": {
      "text/plain": [
       "2.6094984056222135"
      ]
     },
     "execution_count": 27,
     "metadata": {},
     "output_type": "execute_result"
    }
   ],
   "source": [
    "mean_absolute_error(y_test,y_pred)"
   ]
  },
  {
   "cell_type": "code",
   "execution_count": 28,
   "metadata": {},
   "outputs": [
    {
     "data": {
      "image/png": "[encoded data removed]",
      "text/plain": [
       "<Figure size 432x288 with 1 Axes>"
      ]
     },
     "metadata": {
      "needs_background": "light"
     },
     "output_type": "display_data"
    }
   ],
   "source": [
    "plt.scatter(y_test,y_pred)\n",
    "plt.xlabel(\"Real\")\n",
    "plt.ylabel(\"Predicted\")\n",
    "plt.title(\"GradientBoostingRegressor\")\n",
    "plt.show()"
   ]
  },
  {
   "cell_type": "markdown",
   "metadata": {},
   "source": [
    "### K nearest neighbors"
   ]
  },
  {
   "cell_type": "code",
   "execution_count": 29,
   "metadata": {},
   "outputs": [
    {
     "data": {
      "text/plain": [
       "GridSearchCV(cv=5, estimator=KNeighborsRegressor(), iid=False,\n",
       "             param_grid={'n_neighbors': array([ 1,  2,  3,  4,  5,  6,  7,  8,  9, 10, 11, 12, 13, 14, 15, 16, 17,\n",
       "       18, 19]),\n",
       "                         'weights': ['distance', 'uniform']},\n",
       "             scoring='neg_mean_absolute_error')"
      ]
     },
     "execution_count": 29,
     "metadata": {},
     "output_type": "execute_result"
    }
   ],
   "source": [
    "from sklearn.neighbors import KNeighborsRegressor\n",
    "from sklearn.model_selection import GridSearchCV\n",
    "\n",
    "knn = GridSearchCV(KNeighborsRegressor(),\n",
    "param_grid =  {\n",
    "            'n_neighbors':np.arange(1,20,1),\n",
    "            'weights':['distance','uniform']\n",
    "            },\n",
    "          cv=5, \n",
    "          iid=False,refit=True,\n",
    "          scoring=\"neg_mean_absolute_error\")\n",
    "knn.fit(X_train,y_train)"
   ]
  },
  {
   "cell_type": "code",
   "execution_count": 30,
   "metadata": {},
   "outputs": [
    {
     "data": {
      "text/plain": [
       "{'n_neighbors': 17, 'weights': 'uniform'}"
      ]
     },
     "execution_count": 30,
     "metadata": {},
     "output_type": "execute_result"
    }
   ],
   "source": [
    "knn.best_params_"
   ]
  },
  {
   "cell_type": "code",
   "execution_count": 31,
   "metadata": {},
   "outputs": [],
   "source": [
    "y_pred = knn.predict(X_test)"
   ]
  },
  {
   "cell_type": "code",
   "execution_count": 32,
   "metadata": {},
   "outputs": [
    {
     "data": {
      "text/plain": [
       "33.01973035079101"
      ]
     },
     "execution_count": 32,
     "metadata": {},
     "output_type": "execute_result"
    }
   ],
   "source": [
    "mean_absolute_error(y_test,y_pred)"
   ]
  },
  {
   "cell_type": "code",
   "execution_count": 33,
   "metadata": {},
   "outputs": [
    {
     "data": {
      "image/png": "[encoded data removed]",
      "text/plain": [
       "<Figure size 432x288 with 1 Axes>"
      ]
     },
     "metadata": {
      "needs_background": "light"
     },
     "output_type": "display_data"
    }
   ],
   "source": [
    "plt.scatter(y_test,y_pred)\n",
    "plt.xlabel(\"Real\")\n",
    "plt.ylabel(\"Predicted\")\n",
    "plt.title(\"KNeighborsRegressor\")\n",
    "plt.show()"
   ]
  },
  {
   "cell_type": "markdown",
   "metadata": {},
   "source": [
    "## Neural network"
   ]
  },
  {
   "cell_type": "code",
   "execution_count": 34,
   "metadata": {},
   "outputs": [
    {
     "data": {
      "text/plain": [
       "RandomizedSearchCV(cv=5,\n",
       "                   estimator=MLPRegressor(learning_rate='adaptive',\n",
       "                                          max_iter=5000, solver='sgd'),\n",
       "                   iid=False, n_iter=20,\n",
       "                   param_distributions={'activation': ['logistic', 'relu'],\n",
       "                                        'hidden_layer_sizes': [(1,), (2,), (3,),\n",
       "                                                               (4,), (5,), (6,),\n",
       "                                                               (7,), (8,), (9,),\n",
       "                                                               (10,), (11,),\n",
       "                                                               (12,), (13,),\n",
       "                                                               (14,), (15,),\n",
       "                                                               (16,), (17,),\n",
       "                                                               (18,), (19,),\n",
       "                                                               (20,), (21,),\n",
       "                                                               (22,), (23,),\n",
       "                                                               (24,), (25,),\n",
       "                                                               (26,), (27,),\n",
       "                                                               (28,), (29,),\n",
       "                                                               (30,), ...]},\n",
       "                   random_state=0, scoring='neg_mean_absolute_error')"
      ]
     },
     "execution_count": 34,
     "metadata": {},
     "output_type": "execute_result"
    }
   ],
   "source": [
    "from sklearn.neural_network import MLPRegressor\n",
    "\n",
    "scaler = MinMaxScaler()\n",
    "scaler.fit(X_train)\n",
    "nnet = RandomizedSearchCV(MLPRegressor(max_iter=5000,learning_rate = 'adaptive',solver='sgd'),\n",
    "param_distributions =  {\n",
    "     'hidden_layer_sizes':[(x,) for x in np.arange(1,50,1)],\n",
    "     'activation':['logistic','relu']\n",
    "},\n",
    "cv=5, n_iter = 20,\n",
    "iid=False,random_state=0,refit=True,\n",
    "scoring=\"neg_mean_absolute_error\")\n",
    "\n",
    "nnet.fit(X_train,y_train)"
   ]
  },
  {
   "cell_type": "code",
   "execution_count": 35,
   "metadata": {},
   "outputs": [],
   "source": [
    "y_pred = nnet.predict(X_test)"
   ]
  },
  {
   "cell_type": "code",
   "execution_count": 36,
   "metadata": {},
   "outputs": [
    {
     "data": {
      "text/plain": [
       "33.28168575691424"
      ]
     },
     "execution_count": 36,
     "metadata": {},
     "output_type": "execute_result"
    }
   ],
   "source": [
    "mean_absolute_error(y_test,y_pred)"
   ]
  },
  {
   "cell_type": "code",
   "execution_count": 37,
   "metadata": {},
   "outputs": [
    {
     "data": {
      "image/png": "[encoded data removed]",
      "text/plain": [
       "<Figure size 432x288 with 1 Axes>"
      ]
     },
     "metadata": {
      "needs_background": "light"
     },
     "output_type": "display_data"
    }
   ],
   "source": [
    "plt.scatter(y_test,y_pred)\n",
    "plt.xlabel(\"Real\")\n",
    "plt.ylabel(\"Predicted\")\n",
    "plt.title(\"Neural Network\")\n",
    "plt.show()"
   ]
  },
  {
   "cell_type": "markdown",
   "metadata": {},
   "source": [
    "Here are the mean absolute errors for each model:\n",
    "* Linear Regression: 3.17667221594204\n",
    "* Random Forest: 2.289137045123017\n",
    "* Gradient boosting regressor: 6.027036852638728\n",
    "* K Nearest Neighbors: 50.8246064210463\n",
    "* Neural Network: 52.120498966055195"
   ]
  },
  {
   "cell_type": "code",
   "execution_count": null,
   "metadata": {},
   "outputs": [],
   "source": []
  }
 ],
 "metadata": {
  "kernelspec": {
   "display_name": "Python [conda env:pyvizenv] *",
   "language": "python",
   "name": "conda-env-pyvizenv-py"
  },
  "language_info": {
   "codemirror_mode": {
    "name": "ipython",
    "version": 3
   },
   "file_extension": ".py",
   "mimetype": "text/x-python",
   "name": "python",
   "nbconvert_exporter": "python",
   "pygments_lexer": "ipython3",
   "version": "3.7.8"
  }
 },
 "nbformat": 4,
 "nbformat_minor": 4
}
